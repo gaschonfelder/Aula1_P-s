{
 "cells": [
  {
   "cell_type": "markdown",
   "id": "89b8286c-b3f1-4cd7-b7cf-59b8ea684517",
   "metadata": {},
   "source": [
    "## Atividade 1: Contar Frequência de Palavras\n",
    "\n",
    "1. Crie uma variável texto com uma frase de sua escolha.\n",
    "\n",
    "2. Crie um dicionário vazio chamado contagem_palavras.\n",
    "\n",
    "3. Separe a frase em palavras (dica: use o método .split()).\n",
    "\n",
    "4. Use um laço de repetição for para percorrer a lista de palavras.\n",
    "\n",
    "5. Dentro do loop, use um condicional (if/else) para verificar se a palavra já é uma chave no dicionário contagem_palavras.\n",
    "\n",
    "6. Se a palavra existir, incremente seu valor em 1.\n",
    "\n",
    "7. Se não existir, adicione a palavra como uma nova chave com o valor 1.\n",
    "\n",
    "8. Ao final, imprima o dicionário contagem_palavras."
   ]
  },
  {
   "cell_type": "code",
   "execution_count": 2,
   "id": "69783cb5-5476-40d8-865b-ab1d47daeb25",
   "metadata": {},
   "outputs": [
    {
     "name": "stdout",
     "output_type": "stream",
     "text": [
      "frase de teste\n",
      "['frase', 'de', 'teste']\n",
      "frase\n",
      "de\n",
      "teste\n",
      "{'frase': 1, 'de': 1, 'teste': 1}\n"
     ]
    }
   ],
   "source": [
    "# Escreva o código aqui\n",
    "#1 \n",
    "texto = \"frase de teste\"\n",
    "print(texto)\n",
    "#2\n",
    "contagem_palavras = {}\n",
    "#3\n",
    "palavras = texto.split()\n",
    "print(palavras)\n",
    "#4\n",
    "for n in palavras:\n",
    "  print(n)\n",
    "\n",
    "#5\n",
    "for i in palavras:\n",
    "  if i in contagem_palavras:\n",
    "      contagem_palavras[i] += 1\n",
    "  else:\n",
    "      contagem_palavras[i] = 1\n",
    "print(contagem_palavras)"
   ]
  },
  {
   "cell_type": "markdown",
   "id": "693da2e9-2bc6-4c8f-ae96-f6b03f4a82f7",
   "metadata": {},
   "source": [
    "## Atividade 2: Analisar Dados de Alunos\n",
    "\n",
    "1. Crie uma lista chamada alunos, onde cada item é um dicionário com as chaves \"nome\" e \"nota\". Adicione pelo menos 4 alunos.\n",
    "\n",
    "2. Crie uma variável soma_notas e inicialize-a com 0.\n",
    "\n",
    "3. Crie uma variável melhor_aluno como um dicionário vazio.\n",
    "\n",
    "4. Use um laço de repetição for para iterar sobre a lista alunos.\n",
    "\n",
    "5. Dentro do loop, adicione a nota de cada aluno à soma_notas.\n",
    "\n",
    "6. Use um condicional para verificar se a nota do aluno atual é maior que a nota armazenada em melhor_aluno. Se sim, atualize o dicionário melhor_aluno com os dados do aluno atual.\n",
    "\n",
    "7. Após o loop, calcule a média da turma (soma_notas dividida pelo número de alunos) e imprima o nome do aluno com a maior nota e a média da turma."
   ]
  },
  {
   "cell_type": "code",
   "execution_count": 3,
   "id": "efb0d640-8d2e-405f-9c05-fbce9306e3c0",
   "metadata": {},
   "outputs": [
    {
     "name": "stdout",
     "output_type": "stream",
     "text": [
      "O(A) melhor aluno(a) da sala foi o(a) Larissa\n",
      "Média da sala foi 7.25\n"
     ]
    }
   ],
   "source": [
    "# Escreva o código aqui\n",
    "#1\n",
    "alunos = [\n",
    "    {\"nome\": \"Felipe\", \"nota\": 7},\n",
    "    {\"nome\": \"Alex\", \"nota\": 5},\n",
    "    {\"nome\": \"Larissa\", \"nota\": 9},\n",
    "    {\"nome\": \"Gabriel\", \"nota\": 8}\n",
    "]\n",
    "\n",
    "#2\n",
    "soma_notas = 0\n",
    "#3 \n",
    "melhor_aluno = None\n",
    "#4\n",
    "for aluno in alunos:\n",
    "  soma_notas = soma_notas + aluno[\"nota\"]\n",
    "  if melhor_aluno is None or aluno[\"nota\"] > melhor_aluno[\"nota\"]:\n",
    "    melhor_aluno = aluno\n",
    "    \n",
    "media = soma_notas/len(alunos)\n",
    "print(\"O(A) melhor aluno(a) da sala foi o(a)\", melhor_aluno[\"nome\"])\n",
    "print(\"Média da sala foi\", media)\n"
   ]
  },
  {
   "cell_type": "markdown",
   "id": "6d4aa6eb-3acc-4fbf-8dc3-b1de51101eeb",
   "metadata": {},
   "source": [
    "## Atividade 3: Gerar um Tabuleiro de Xadrez\n",
    "\n",
    "1. Crie uma lista vazia chamada tabuleiro.\n",
    "\n",
    "2. Use um laço de repetição for externo para iterar 8 vezes (representando as linhas).\n",
    "\n",
    "3. Dentro dele, crie uma lista vazia chamada linha.\n",
    "\n",
    "4. Use um laço de repetição for interno para iterar 8 vezes (representando as colunas).\n",
    "\n",
    "5. Dentro do loop interno, use um condicional para adicionar uma string que representa a cor da casa ('preto' ou 'branco') à linha, alternando a cor a cada passo.\n",
    "\n",
    "6. Adicione a linha completa ao tabuleiro após o loop interno.\n",
    "\n",
    "7. Imprima o tabuleiro completo."
   ]
  },
  {
   "cell_type": "code",
   "execution_count": 4,
   "id": "1bbb6d13-61e1-46d8-b018-b2852b6f2b39",
   "metadata": {},
   "outputs": [
    {
     "name": "stdout",
     "output_type": "stream",
     "text": [
      "['Branco', 'Preto', 'Branco', 'Preto', 'Branco', 'Preto', 'Branco', 'Preto']\n",
      "['Preto', 'Branco', 'Preto', 'Branco', 'Preto', 'Branco', 'Preto', 'Branco']\n",
      "['Branco', 'Preto', 'Branco', 'Preto', 'Branco', 'Preto', 'Branco', 'Preto']\n",
      "['Preto', 'Branco', 'Preto', 'Branco', 'Preto', 'Branco', 'Preto', 'Branco']\n",
      "['Branco', 'Preto', 'Branco', 'Preto', 'Branco', 'Preto', 'Branco', 'Preto']\n",
      "['Preto', 'Branco', 'Preto', 'Branco', 'Preto', 'Branco', 'Preto', 'Branco']\n",
      "['Branco', 'Preto', 'Branco', 'Preto', 'Branco', 'Preto', 'Branco', 'Preto']\n",
      "['Preto', 'Branco', 'Preto', 'Branco', 'Preto', 'Branco', 'Preto', 'Branco']\n"
     ]
    }
   ],
   "source": [
    "# Escreva o código aqui\n",
    "tabuleiro = []\n",
    "for n in range (8):\n",
    "  linha=[]\n",
    "  for m in range (8):\n",
    "    if (n+m) % 2 == 0:\n",
    "      linha.append(\"Branco\")\n",
    "    else: \n",
    "      linha.append(\"Preto\")\n",
    "  tabuleiro.append(linha)\n",
    "\n",
    "for i in tabuleiro:\n",
    "  print(i)\n"
   ]
  },
  {
   "cell_type": "markdown",
   "id": "bbaa181f-1687-404c-bdaa-44ed8fddccf3",
   "metadata": {},
   "source": [
    "## Atividade 4: Análise de Dados de Sensores\n",
    "\n",
    "1. Crie uma lista de dicionários chamada leituras_sensores, onde cada dicionário tem as chaves \"sensor_id\", \"valor\" (numérico) e \"data\" (string). Adicione pelo menos 5 leituras.\n",
    "\n",
    "2. Crie variáveis para a soma dos valores, o maior valor, o menor valor e a contagem de leituras.\n",
    "\n",
    "3. Crie um dicionário vazio chamado alertas para armazenar leituras com valor acima de um limite (por exemplo, 30).\n",
    "\n",
    "4. Use um laço de repetição for para percorrer a lista leituras_sensores.\n",
    "\n",
    "5. Dentro do loop, atualize as variáveis de soma, maior e menor valor.\n",
    "\n",
    "6. Use um condicional (if) para verificar se o valor da leitura é maior que o limite. Se sim, adicione a leitura completa ao dicionário alertas com o sensor_id como chave.\n",
    "\n",
    "7. Após o loop, calcule a média dos valores e imprima um relatório com o valor médio, o maior valor, o menor valor e o dicionário alertas com as leituras que ultrapassaram o limite."
   ]
  },
  {
   "cell_type": "code",
   "execution_count": 5,
   "id": "52851988-3032-40eb-8c44-8a8eb2d2bb7e",
   "metadata": {},
   "outputs": [
    {
     "name": "stdout",
     "output_type": "stream",
     "text": [
      "Foram feitas  5  leituras\n",
      "O menor valor de leitura foi  25\n",
      "O maior valor de leitura foi  50\n",
      "A soma das leituras foi  180\n",
      "A média das leiuras foi  36.0\n",
      "Alertas : {'S2': {40, '12/10'}, 'S3': {'11/10', 50}}\n"
     ]
    }
   ],
   "source": [
    "# Escreva o código aqui\n",
    "leitura_sensores=[\n",
    "    {\"sensor_id\": \"S1\", \"Valor\": 30, \"data\": \"10/10\"},\n",
    "    {\"sensor_id\": \"S2\", \"Valor\": 40, \"data\": \"12/10\"},\n",
    "    {\"sensor_id\": \"S3\", \"Valor\": 50, \"data\": \"11/10\"},\n",
    "    {\"sensor_id\": \"S4\", \"Valor\": 35, \"data\": \"14/10\"},\n",
    "    {\"sensor_id\": \"S5\", \"Valor\": 25, \"data\": \"15/10\"}\n",
    "]\n",
    "maior_valor = None\n",
    "soma = 0\n",
    "menor_valor = None\n",
    "cont_leituras = 0\n",
    "alertas = {}\n",
    "media = 0\n",
    "limite = 35\n",
    "\n",
    "for leitura in leitura_sensores:\n",
    "  soma += leitura[\"Valor\"]\n",
    "  cont_leituras +=1\n",
    "  if maior_valor is None or maior_valor < leitura[\"Valor\"]:\n",
    "    maior_valor = leitura[\"Valor\"]\n",
    "  if menor_valor is None or menor_valor > leitura[\"Valor\"]:\n",
    "    menor_valor = leitura[\"Valor\"]\n",
    "  if leitura[\"Valor\"] > limite:\n",
    "    alertas[leitura[\"sensor_id\"]] = {\n",
    "    leitura[\"Valor\"],\n",
    "    leitura[\"data\"]\n",
    "    }\n",
    "media = soma/len(leitura_sensores)\n",
    "  \n",
    "print(\"Foram feitas \",cont_leituras,\" leituras\")\n",
    "print(\"O menor valor de leitura foi \",menor_valor)\n",
    "print(\"O maior valor de leitura foi \", maior_valor)\n",
    "print(\"A soma das leituras foi \",soma)\n",
    "print(\"A média das leiuras foi \", media)\n",
    "print(\"Alertas :\", alertas)"
   ]
  },
  {
   "cell_type": "markdown",
   "id": "6e53f9c4-3f20-4722-9ec7-62d16c3f5a0a",
   "metadata": {},
   "source": [
    "## Atividade 5: Consolidação e Limpeza de Dados de Múltiplas Fontes\n",
    "\n",
    "1. Crie duas listas de dicionários, sensores_leste e sensores_oeste, cada uma com pelo menos 3 dicionários. Cada dicionário deve ter as chaves \"id\", \"temperatura\" (numérico) e \"umidade\" (numérico). Inclua valores negativos ou nulos para simular dados inválidos.\n",
    "\n",
    "2. Crie uma lista vazia chamada dados_validos.\n",
    "\n",
    "3. Use loops de repetição para percorrer as duas listas de sensores. Dentro dos loops, use condicionais (if) para verificar se os valores de \"temperatura\" e \"umidade\" são positivos.\n",
    "\n",
    "4. Se os dados forem válidos, adicione o dicionário completo à lista dados_validos.\n",
    "\n",
    "5. Após os loops, use um laço for para iterar sobre a lista dados_validos. Calcule e armazene a temperatura média, a umidade média, a temperatura máxima e a umidade máxima.\n",
    "\n",
    "6. Use um dicionário para contar o número de leituras válidas de cada sensor (usando o \"id\" como chave).\n",
    "\n",
    "7. Imprima um relatório final com as médias, os valores máximos e a contagem de leituras por sensor."
   ]
  },
  {
   "cell_type": "code",
   "execution_count": 6,
   "id": "9700132e-8de9-47c4-9f22-c390adb2cf7a",
   "metadata": {},
   "outputs": [
    {
     "name": "stdout",
     "output_type": "stream",
     "text": [
      "Dados válidos: [{'id': 'SL1', 'temperatura': 30, 'umidade': 40}, {'id': 'SO1', 'temperatura': 25, 'umidade': 25}, {'id': 'SL2', 'temperatura': 35, 'umidade': 45}, {'id': 'SO2', 'temperatura': 45, 'umidade': 70}, {'id': 'SL3', 'temperatura': 25, 'umidade': 15}, {'id': 'SO3', 'temperatura': 40, 'umidade': 55}]\n",
      "Temperatura média: 33.333333333333336\n",
      "Umidade média: 41.666666666666664\n",
      "Temperatura máxima: 45\n",
      "Umidade máxima: 70\n",
      "Leituras válidas por sensor: {'SL1': 1, 'SO1': 1, 'SL2': 1, 'SO2': 1, 'SL3': 1, 'SO3': 1}\n"
     ]
    }
   ],
   "source": [
    "# Escreva o código aqui\n",
    "sensores_leste = [\n",
    "    {\"id\": \"SL1\", \"temperatura\": 30, \"umidade\": 40},\n",
    "    {\"id\": \"SL2\", \"temperatura\": 35, \"umidade\": 45},\n",
    "    {\"id\": \"SL2\", \"temperatura\": 15, \"umidade\": -10},\n",
    "    {\"id\": \"SL3\", \"temperatura\": 25, \"umidade\": 15}\n",
    "]\n",
    "\n",
    "sensores_oeste = [\n",
    "    {\"id\": \"SO1\", \"temperatura\": 25, \"umidade\": 25},\n",
    "    {\"id\": \"SO2\", \"temperatura\": 45, \"umidade\": 70},\n",
    "    {\"id\": \"SO2\", \"temperatura\": -5, \"umidade\": 30}, \n",
    "    {\"id\": \"SO3\", \"temperatura\": 40, \"umidade\": 55}\n",
    "]\n",
    "\n",
    "dados_validos = []\n",
    "\n",
    "for i in range(len(sensores_leste)):\n",
    "    if sensores_leste[i][\"temperatura\"] > 0 and sensores_leste[i][\"umidade\"] > 0:\n",
    "        dados_validos.append(sensores_leste[i])\n",
    "    if sensores_oeste[i][\"temperatura\"] > 0 and sensores_oeste[i][\"umidade\"] > 0:\n",
    "        dados_validos.append(sensores_oeste[i])\n",
    "\n",
    "print(\"Dados válidos:\", dados_validos)\n",
    "\n",
    "\n",
    "soma_temp = 0\n",
    "soma_umid = 0\n",
    "max_temp = None\n",
    "max_umid = None\n",
    "contagem_sensores = {}  \n",
    "\n",
    "for leitura in dados_validos:\n",
    "    temp = leitura[\"temperatura\"]\n",
    "    umid = leitura[\"umidade\"]\n",
    "    sensor = leitura[\"id\"]\n",
    "\n",
    "    soma_temp += temp\n",
    "    soma_umid += umid\n",
    "\n",
    "    if max_temp is None or temp > max_temp:\n",
    "        max_temp = temp\n",
    "\n",
    "    if max_umid is None or umid > max_umid:\n",
    "        max_umid = umid\n",
    "\n",
    "    if sensor in contagem_sensores:\n",
    "        contagem_sensores[sensor] += 1\n",
    "    else:\n",
    "        contagem_sensores[sensor] = 1\n",
    "\n",
    "media_temp = soma_temp / len(dados_validos)\n",
    "media_umid = soma_umid / len(dados_validos)\n",
    "\n",
    "print(\"Temperatura média:\", media_temp)\n",
    "print(\"Umidade média:\", media_umid)\n",
    "print(\"Temperatura máxima:\", max_temp)\n",
    "print(\"Umidade máxima:\", max_umid)\n",
    "print(\"Leituras válidas por sensor:\", contagem_sensores)"
   ]
  }
 ],
 "metadata": {
  "kernelspec": {
   "display_name": "Python 3",
   "language": "python",
   "name": "python3"
  },
  "language_info": {
   "codemirror_mode": {
    "name": "ipython",
    "version": 3
   },
   "file_extension": ".py",
   "mimetype": "text/x-python",
   "name": "python",
   "nbconvert_exporter": "python",
   "pygments_lexer": "ipython3",
   "version": "3.12.1"
  }
 },
 "nbformat": 4,
 "nbformat_minor": 5
}
